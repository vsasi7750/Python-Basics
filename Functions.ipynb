{
 "cells": [
  {
   "cell_type": "code",
   "execution_count": 1,
   "metadata": {},
   "outputs": [
    {
     "name": "stdout",
     "output_type": "stream",
     "text": [
      "this is outside the function\n"
     ]
    }
   ],
   "source": [
    "# collection of instructions\n",
    "# collection of codes\n",
    "def function1():\n",
    "    print(\"ahhhhhh\")\n",
    "    print(\"ahhhhhhhhhh2\")\n",
    "print(\"this is outside the function\")"
   ]
  },
  {
   "cell_type": "code",
   "execution_count": 2,
   "metadata": {},
   "outputs": [
    {
     "name": "stdout",
     "output_type": "stream",
     "text": [
      "ahhhhhh\n",
      "ahhhhhhhhhh2\n"
     ]
    }
   ],
   "source": [
    "function1()"
   ]
  },
  {
   "cell_type": "code",
   "execution_count": 3,
   "metadata": {},
   "outputs": [
    {
     "name": "stdout",
     "output_type": "stream",
     "text": [
      "ahhhhhh\n",
      "ahhhhhhhhhh2\n",
      "ahhhhhh\n",
      "ahhhhhhhhhh2\n"
     ]
    }
   ],
   "source": [
    "function1()\n",
    "function1()"
   ]
  },
  {
   "cell_type": "code",
   "execution_count": 5,
   "metadata": {},
   "outputs": [],
   "source": [
    "# mapping\n",
    "#input or an argument\n",
    "def function2(x):\n",
    "    return 3*x"
   ]
  },
  {
   "cell_type": "code",
   "execution_count": 6,
   "metadata": {},
   "outputs": [],
   "source": [
    "a = function2(3)"
   ]
  },
  {
   "cell_type": "code",
   "execution_count": 7,
   "metadata": {},
   "outputs": [
    {
     "name": "stdout",
     "output_type": "stream",
     "text": [
      "9\n"
     ]
    }
   ],
   "source": [
    "print(a)"
   ]
  },
  {
   "cell_type": "code",
   "execution_count": 8,
   "metadata": {},
   "outputs": [],
   "source": [
    "b = function2(4)"
   ]
  },
  {
   "cell_type": "code",
   "execution_count": 9,
   "metadata": {},
   "outputs": [
    {
     "name": "stdout",
     "output_type": "stream",
     "text": [
      "12\n"
     ]
    }
   ],
   "source": [
    "print(b)"
   ]
  },
  {
   "cell_type": "code",
   "execution_count": 10,
   "metadata": {},
   "outputs": [],
   "source": [
    "def function(x , y):\n",
    "    return x + y"
   ]
  },
  {
   "cell_type": "code",
   "execution_count": 11,
   "metadata": {},
   "outputs": [],
   "source": [
    "e = function(1 , 2)"
   ]
  },
  {
   "cell_type": "code",
   "execution_count": 12,
   "metadata": {},
   "outputs": [
    {
     "name": "stdout",
     "output_type": "stream",
     "text": [
      "3\n"
     ]
    }
   ],
   "source": [
    "print(e)"
   ]
  },
  {
   "cell_type": "code",
   "execution_count": 13,
   "metadata": {},
   "outputs": [],
   "source": [
    "def function4(x):\n",
    "    print(x)\n",
    "    print(\"sill in this function\")\n",
    "    return 4*x"
   ]
  },
  {
   "cell_type": "code",
   "execution_count": 14,
   "metadata": {},
   "outputs": [
    {
     "name": "stdout",
     "output_type": "stream",
     "text": [
      "5\n",
      "sill in this function\n"
     ]
    }
   ],
   "source": [
    "f = function4(5)"
   ]
  },
  {
   "cell_type": "code",
   "execution_count": 15,
   "metadata": {},
   "outputs": [
    {
     "name": "stdout",
     "output_type": "stream",
     "text": [
      "20\n"
     ]
    }
   ],
   "source": [
    "print(f)"
   ]
  },
  {
   "cell_type": "code",
   "execution_count": 16,
   "metadata": {},
   "outputs": [],
   "source": [
    "def function5(some_argument):\n",
    "    print(some_argument)\n",
    "    print(\"weeee\")"
   ]
  },
  {
   "cell_type": "code",
   "execution_count": 17,
   "metadata": {},
   "outputs": [
    {
     "name": "stdout",
     "output_type": "stream",
     "text": [
      "5\n",
      "weeee\n"
     ]
    }
   ],
   "source": [
    "function5(5)"
   ]
  },
  {
   "cell_type": "code",
   "execution_count": 22,
   "metadata": {},
   "outputs": [],
   "source": [
    "# bmi calculator\n",
    "name1 = \"Sasi\"\n",
    "height_m1 = 2\n",
    "weight_kg1 = 90\n",
    "\n",
    "name2 = \"Raja\"\n",
    "height_m2 = 3\n",
    "weight_kg2 = 100\n",
    "\n",
    "name3 = \"Ramu\"\n",
    "height_m3 = 4\n",
    "weight_kg3 = 110"
   ]
  },
  {
   "cell_type": "code",
   "execution_count": 30,
   "metadata": {},
   "outputs": [],
   "source": [
    "def bmi_calculatore(name , height_m , weight_kg):\n",
    "    bmi = weight_kg / (height_m**2)\n",
    "    print(\"bmi: \")\n",
    "    print(bmi)\n",
    "    if bmi < 25:\n",
    "        return name +  \" Not overweight\"\n",
    "    else:\n",
    "        return name +  \"overweight\""
   ]
  },
  {
   "cell_type": "code",
   "execution_count": 31,
   "metadata": {},
   "outputs": [
    {
     "name": "stdout",
     "output_type": "stream",
     "text": [
      "bmi: \n",
      "22.5\n",
      "bmi: \n",
      "11.11111111111111\n",
      "bmi: \n",
      "6.875\n"
     ]
    }
   ],
   "source": [
    "result1 = bmi_calculatore(name1, height_m1, weight_kg1 )\n",
    "result2 = bmi_calculatore(name2, height_m2, weight_kg2 )\n",
    "result3 = bmi_calculatore(name3, height_m3, weight_kg3 )"
   ]
  },
  {
   "cell_type": "code",
   "execution_count": 32,
   "metadata": {},
   "outputs": [
    {
     "name": "stdout",
     "output_type": "stream",
     "text": [
      "Sasi Not overweight\n",
      "Raja Not overweight\n",
      "Ramu Not overweight\n"
     ]
    }
   ],
   "source": [
    "print(result1)\n",
    "print(result2)\n",
    "print(result3)"
   ]
  },
  {
   "cell_type": "code",
   "execution_count": null,
   "metadata": {},
   "outputs": [],
   "source": []
  }
 ],
 "metadata": {
  "kernelspec": {
   "display_name": "Python 3",
   "language": "python",
   "name": "python3"
  },
  "language_info": {
   "codemirror_mode": {
    "name": "ipython",
    "version": 3
   },
   "file_extension": ".py",
   "mimetype": "text/x-python",
   "name": "python",
   "nbconvert_exporter": "python",
   "pygments_lexer": "ipython3",
   "version": "3.7.0"
  }
 },
 "nbformat": 4,
 "nbformat_minor": 2
}
